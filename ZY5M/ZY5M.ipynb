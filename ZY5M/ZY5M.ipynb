{
 "cells": [
  {
   "cell_type": "code",
   "execution_count": 1,
   "metadata": {
    "collapsed": true
   },
   "outputs": [],
   "source": [
    "r\"\"\"----------------------------------------------------------------------------\n",
    "@File    : .\\ZY5M.ipynb\n",
    "@Time    : 2023-6-24 15:34:58\n",
    "@Author  : Zheng Han\n",
    "@Contact : hzsongrentou1580@gmail.com\n",
    "@License : (C)Copyright 2023, ZhengHan. All rights reserved.\n",
    "@Desc    :\n",
    "-----------------------------------------------------------------------------\"\"\"\n",
    "\n",
    "import numpy as np\n"
   ]
  },
  {
   "cell_type": "code",
   "execution_count": null,
   "outputs": [],
   "source": [],
   "metadata": {
    "collapsed": false
   }
  }
 ],
 "metadata": {
  "kernelspec": {
   "display_name": "Python 3",
   "language": "python",
   "name": "python3"
  },
  "language_info": {
   "codemirror_mode": {
    "name": "ipython",
    "version": 2
   },
   "file_extension": ".py",
   "mimetype": "text/x-python",
   "name": "python",
   "nbconvert_exporter": "python",
   "pygments_lexer": "ipython2",
   "version": "2.7.6"
  }
 },
 "nbformat": 4,
 "nbformat_minor": 0
}
